{
 "cells": [
  {
   "cell_type": "code",
   "execution_count": 1,
   "metadata": {},
   "outputs": [],
   "source": [
    "#Largest prime factor of a 600851475143"
   ]
  },
  {
   "cell_type": "code",
   "execution_count": 2,
   "metadata": {},
   "outputs": [],
   "source": [
    "from math import sqrt"
   ]
  },
  {
   "cell_type": "code",
   "execution_count": 3,
   "metadata": {},
   "outputs": [],
   "source": [
    "def largest_prime_factor(num):\n",
    "    \n",
    "    largest = 0\n",
    "\n",
    "    while(num % 2 == 0): #This converts the number, if even(and !=2), to an odd number which helps in the for loop below\n",
    "        if largest < 2:\n",
    "            largest = 2\n",
    "        num /= 2\n",
    "    \n",
    "    for i in range(3, int(sqrt(num) + 1), 2): #All prime numbers are odd except 2. So we need to start loop from 3 and increment by 2 so that i=odd numbers only\n",
    "\n",
    "        while num % i == 0: #If i divides num, i is a prime factor of num.\n",
    "            num /= i \n",
    "\n",
    "            if largest < i: #To find the largest among the prime numbers.\n",
    "                largest = i\n",
    "\n",
    "    if(num > 2): #For those numbers which are already prime and do not pass through the above two loops.\n",
    "      largest = num\n",
    "\n",
    "    return largest"
   ]
  },
  {
   "cell_type": "code",
   "execution_count": 4,
   "metadata": {},
   "outputs": [
    {
     "name": "stdout",
     "output_type": "stream",
     "text": [
      "6857\n"
     ]
    }
   ],
   "source": [
    "print(largest_prime_factor(600851475143))"
   ]
  }
 ],
 "metadata": {
  "kernelspec": {
   "display_name": "Python 3",
   "language": "python",
   "name": "python3"
  },
  "language_info": {
   "codemirror_mode": {
    "name": "ipython",
    "version": 3
   },
   "file_extension": ".py",
   "mimetype": "text/x-python",
   "name": "python",
   "nbconvert_exporter": "python",
   "pygments_lexer": "ipython3",
   "version": "3.6.5"
  }
 },
 "nbformat": 4,
 "nbformat_minor": 2
}
