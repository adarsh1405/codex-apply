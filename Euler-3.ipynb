{
 "cells": [
  {
   "cell_type": "code",
   "execution_count": 2,
   "metadata": {},
   "outputs": [],
   "source": [
    "#Largest prime factor of a 600851475143"
   ]
  },
  {
   "cell_type": "code",
   "execution_count": 4,
   "metadata": {},
   "outputs": [],
   "source": [
    "from math import sqrt"
   ]
  },
  {
   "cell_type": "code",
   "execution_count": 8,
   "metadata": {},
   "outputs": [],
   "source": [
    "#Returns a list of factors of num\n",
    "def factors(num):\n",
    "    factorList = []\n",
    "    for potentialFactor in range(1, int(sqrt(num) + 1)): #Fix upper bound at the sqrt of number to reduce time complexity\n",
    "        if(num % potentialFactor == 0):\n",
    "            factorList.append(potentialFactor)\n",
    "            factorList.append(num // potentialFactor) #Because we've taken till the sqrt of the number, we need to do this step to generate the missing factor(in a pair of factors)\n",
    "    return factorList"
   ]
  },
  {
   "cell_type": "code",
   "execution_count": 13,
   "metadata": {},
   "outputs": [],
   "source": [
    "#Checks if num is prime\n",
    "def isPrime(num):\n",
    "    return len(factors(num)) == 2 #If the factor list contains only two factors, the number is prime for sure."
   ]
  },
  {
   "cell_type": "code",
   "execution_count": 10,
   "metadata": {},
   "outputs": [
    {
     "name": "stdout",
     "output_type": "stream",
     "text": [
      "[1, 600851475143, 71, 8462696833, 839, 716151937, 1471, 408464633, 6857, 87625999, 59569, 10086647, 104441, 5753023, 486847, 1234169]\n"
     ]
    }
   ],
   "source": [
    "print(factors(600851475143)) #For demo purposes"
   ]
  },
  {
   "cell_type": "code",
   "execution_count": 16,
   "metadata": {},
   "outputs": [],
   "source": [
    "#Prints the largest prime factor of num\n",
    "def largest_prime_factor(num):\n",
    "    largest = 0\n",
    "    for i in factors(num):\n",
    "        if(isPrime(i) and i > largest):\n",
    "            largest = i\n",
    "    if(largest != 0):\n",
    "        return largest"
   ]
  },
  {
   "cell_type": "code",
   "execution_count": 17,
   "metadata": {},
   "outputs": [
    {
     "data": {
      "text/plain": [
       "6857"
      ]
     },
     "execution_count": 17,
     "metadata": {},
     "output_type": "execute_result"
    }
   ],
   "source": [
    "largest_prime_factor(600851475143)"
   ]
  }
 ],
 "metadata": {
  "kernelspec": {
   "display_name": "Python 3",
   "language": "python",
   "name": "python3"
  },
  "language_info": {
   "codemirror_mode": {
    "name": "ipython",
    "version": 3
   },
   "file_extension": ".py",
   "mimetype": "text/x-python",
   "name": "python",
   "nbconvert_exporter": "python",
   "pygments_lexer": "ipython3",
   "version": "3.6.5"
  }
 },
 "nbformat": 4,
 "nbformat_minor": 2
}
