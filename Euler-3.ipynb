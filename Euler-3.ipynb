{
 "cells": [
  {
   "cell_type": "code",
   "execution_count": 2,
   "metadata": {},
   "outputs": [],
   "source": [
    "#Largest prime factor of a 600851475143"
   ]
  },
  {
   "cell_type": "code",
   "execution_count": 4,
   "metadata": {},
   "outputs": [],
   "source": [
    "from math import sqrt"
   ]
  },
  {
   "cell_type": "code",
   "execution_count": 8,
   "metadata": {},
   "outputs": [],
   "source": [
    "#Returns a list of factors of num\n",
    "def factors(num):\n",
    "    factorList = []\n",
    "    for potentialFactor in range(1, int(sqrt(num) + 1)): #Fix upper bound at the sqrt of number to reduce time complexity\n",
    "                                                         #Firstly, suppose num = 36. Now when we factorize 10 we get some pairs of\n",
    "                                                        # We can write, 36 = 12x3, 3x4x3, 3x2x2x3. Thus the factors are 2 and 5.\n",
    "                                                        # Now, if we loop till the square root of number, we can reduce time complexity\n",
    "                                                        # a lot. Firstly, in case of num = 36, sqrt(num) = 6. Thus, we can check for numbers from 1 to 6\n",
    "                                                        # if they are a factor of 36 or not(instead of going 1 to 36). \n",
    "                            \n",
    "                                                        # 36%1 == 0\n",
    "                                                        # 36%2 == 0. Here we should have two factors to check for primality instead of one.\n",
    "                                                            #36/2 = 18. This is a factor of 36 too so this should be checked for primality too.\n",
    "                                                        # 36%3 == 0 . Also 36/3 = 12 is a factor of 36 so it should be checked too.\n",
    "                                                        # 36%4 == 0 . 36/4 = 9. 9 should be checked for primality too\n",
    "                                                        # 36%6 == 0\n",
    "        if(num % potentialFactor == 0):\n",
    "            factorList.append(potentialFactor)\n",
    "            factorList.append(num / potentialFactor) #Because we've taken till the sqrt of the number, we need to do this step to generate the missing factor(in a pair of factors)\n",
    "    return factorList"
   ]
  },
  {
   "cell_type": "code",
   "execution_count": 9,
   "metadata": {},
   "outputs": [],
   "source": [
    "#Checks if num is prime\n",
    "def isPrime(num):\n",
    "    return len(factors(num)) == 2 #If the factor list contains only two factors, the number is prime for sure."
   ]
  },
  {
   "cell_type": "code",
   "execution_count": 10,
   "metadata": {},
   "outputs": [
    {
     "name": "stdout",
     "output_type": "stream",
     "text": [
      "[1, 600851475143.0, 71, 8462696833.0, 839, 716151937.0, 1471, 408464633.0, 6857, 87625999.0, 59569, 10086647.0, 104441, 5753023.0, 486847, 1234169.0]\n"
     ]
    }
   ],
   "source": [
    "print(factors(600851475143)) #For demo purposes"
   ]
  },
  {
   "cell_type": "code",
   "execution_count": 11,
   "metadata": {},
   "outputs": [],
   "source": [
    "#Prints the largest prime factor of num\n",
    "def largest_prime_factor(num):\n",
    "    largest = 0\n",
    "    for factor in factors(num): # For every factor in the list of factors, check if it is prime.\n",
    "        if(isPrime(factor) and factor > largest):\n",
    "            largest = factor\n",
    "    if(largest != 0):\n",
    "        return largest"
   ]
  },
  {
   "cell_type": "code",
   "execution_count": 12,
   "metadata": {},
   "outputs": [
    {
     "data": {
      "text/plain": [
       "6857"
      ]
     },
     "execution_count": 12,
     "metadata": {},
     "output_type": "execute_result"
    }
   ],
   "source": [
    "largest_prime_factor(600851475143)"
   ]
  },
  {
   "cell_type": "code",
   "execution_count": null,
   "metadata": {},
   "outputs": [],
   "source": []
  }
 ],
 "metadata": {
  "kernelspec": {
   "display_name": "Python 3",
   "language": "python",
   "name": "python3"
  },
  "language_info": {
   "codemirror_mode": {
    "name": "ipython",
    "version": 3
   },
   "file_extension": ".py",
   "mimetype": "text/x-python",
   "name": "python",
   "nbconvert_exporter": "python",
   "pygments_lexer": "ipython3",
   "version": "3.6.5"
  }
 },
 "nbformat": 4,
 "nbformat_minor": 2
}
