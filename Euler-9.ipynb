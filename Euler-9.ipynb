{
 "cells": [
  {
   "cell_type": "code",
   "execution_count": 2,
   "metadata": {},
   "outputs": [],
   "source": [
    "#There exists one and only one pythagorean triplet for which sum of the numbers = 1000"
   ]
  },
  {
   "cell_type": "code",
   "execution_count": 3,
   "metadata": {},
   "outputs": [],
   "source": [
    "from math import sqrt"
   ]
  },
  {
   "cell_type": "code",
   "execution_count": 12,
   "metadata": {},
   "outputs": [
    {
     "name": "stdout",
     "output_type": "stream",
     "text": [
      "a: 200 b: 375 c: 425\n",
      "Product is 31875000.0\n"
     ]
    }
   ],
   "source": [
    "x = 1000 # So we set the limit to be 1000.\n",
    "for a in range(1, x+1): \n",
    "    for b in range(1, x+1):\n",
    "                          # For a+b+c = 1000, we must loop through numbers from 1 through 1000\n",
    "    \n",
    "        if a > b :       # In a pythagorean triplet a**2+b**2=c**2 such that a<b<c.\n",
    "            continue    # Proceed to next iteration if the current iteration has no probable pythagorean triplet.\n",
    "            \n",
    "        if(a + b + sqrt(a**2 + b**2)) == x:\n",
    "            print(\"a:\" , a , \"b:\" , b, \"c:\", int(sqrt(a**2 + b**2)))\n",
    "            product = a * b * sqrt(a**2 + b**2)\n",
    "            print(\"Product is\", product)\n",
    "            "
   ]
  },
  {
   "cell_type": "code",
   "execution_count": null,
   "metadata": {},
   "outputs": [],
   "source": []
  }
 ],
 "metadata": {
  "kernelspec": {
   "display_name": "Python 3",
   "language": "python",
   "name": "python3"
  },
  "language_info": {
   "codemirror_mode": {
    "name": "ipython",
    "version": 3
   },
   "file_extension": ".py",
   "mimetype": "text/x-python",
   "name": "python",
   "nbconvert_exporter": "python",
   "pygments_lexer": "ipython3",
   "version": "3.6.5"
  }
 },
 "nbformat": 4,
 "nbformat_minor": 2
}
