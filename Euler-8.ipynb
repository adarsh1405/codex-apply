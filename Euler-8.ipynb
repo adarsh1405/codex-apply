{
 "cells": [
  {
   "cell_type": "code",
   "execution_count": 1,
   "metadata": {},
   "outputs": [],
   "source": [
    "#Max 4 Adjacent digits product thingy"
   ]
  },
  {
   "cell_type": "code",
   "execution_count": 2,
   "metadata": {},
   "outputs": [],
   "source": [
    "data = \"73167176531330624919225119674426574742355349194934\\\n",
    "96983520312774506326239578318016984801869478851843\\\n",
    "85861560789112949495459501737958331952853208805511\\\n",
    "12540698747158523863050715693290963295227443043557\\\n",
    "66896648950445244523161731856403098711121722383113\\\n",
    "62229893423380308135336276614282806444486645238749\\\n",
    "30358907296290491560440772390713810515859307960866\\\n",
    "70172427121883998797908792274921901699720888093776\\\n",
    "65727333001053367881220235421809751254540594752243\\\n",
    "52584907711670556013604839586446706324415722155397\\\n",
    "53697817977846174064955149290862569321978468622482\\\n",
    "83972241375657056057490261407972968652414535100474\\\n",
    "82166370484403199890008895243450658541227588666881\\\n",
    "16427171479924442928230863465674813919123162824586\\\n",
    "17866458359124566529476545682848912883142607690042\\\n",
    "24219022671055626321111109370544217506941658960408\\\n",
    "07198403850962455444362981230987879927244284909188\\\n",
    "84580156166097919133875499200524063689912560717606\\\n",
    "05886116467109405077541002256983155200055935729725\\\n",
    "71636269561882670428252483600823257530420752963450\""
   ]
  },
  {
   "cell_type": "code",
   "execution_count": 15,
   "metadata": {
    "scrolled": false
   },
   "outputs": [],
   "source": [
    "def max_product(limit):\n",
    "    maximum = 0 # No need to do anything with this, so we initialize this outside of any loop\n",
    "    for i in range(0, len(data) - limit): \n",
    "        slicing = data[i : i+limit] # len(data) - limit was used so that when the loop reaches len(data) - limit, slicing will be from slicing[len(data) - limit : len(data) - limit + limit] ≡ slicing[len(data) - limit : len(data)]\n",
    "        product = 1 # Need to set product=1 inside loop so that it is reset everytime i is incremented\n",
    "        for j in slicing:\n",
    "            product = product * int(j)\n",
    "            if(product > maximum): # This check had to be done inside the second for loop so that the product value can be compared with maximum before product resets to 1\n",
    "                maximum = product\n",
    "    return maximum"
   ]
  },
  {
   "cell_type": "code",
   "execution_count": 22,
   "metadata": {},
   "outputs": [
    {
     "data": {
      "text/plain": [
       "23514624000"
      ]
     },
     "execution_count": 22,
     "metadata": {},
     "output_type": "execute_result"
    }
   ],
   "source": [
    "max_product(13)"
   ]
  }
 ],
 "metadata": {
  "kernelspec": {
   "display_name": "Python 3",
   "language": "python",
   "name": "python3"
  },
  "language_info": {
   "codemirror_mode": {
    "name": "ipython",
    "version": 3
   },
   "file_extension": ".py",
   "mimetype": "text/x-python",
   "name": "python",
   "nbconvert_exporter": "python",
   "pygments_lexer": "ipython3",
   "version": "3.6.5"
  }
 },
 "nbformat": 4,
 "nbformat_minor": 2
}
